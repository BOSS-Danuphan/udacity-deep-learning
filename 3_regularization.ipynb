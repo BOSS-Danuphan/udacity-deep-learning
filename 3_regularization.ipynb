{
  "nbformat": 4,
  "nbformat_minor": 0,
  "metadata": {
    "colab": {
      "name": "3_regularization.ipynb",
      "version": "0.3.2",
      "provenance": []
    }
  },
  "cells": [
    {
      "metadata": {
        "id": "kR-4eNdK6lYS",
        "colab_type": "text"
      },
      "cell_type": "markdown",
      "source": [
        "Deep Learning\n",
        "=============\n",
        "\n",
        "Assignment 3\n",
        "------------\n",
        "\n",
        "Previously in `2_fullyconnected.ipynb`, you trained a logistic regression and a neural network model.\n",
        "\n",
        "The goal of this assignment is to explore regularization techniques."
      ]
    },
    {
      "metadata": {
        "id": "JLpLa8Jt7Vu4",
        "colab_type": "code",
        "cellView": "both",
        "colab": {}
      },
      "cell_type": "code",
      "source": [
        "# These are all the modules we'll be using later. Make sure you can import them\n",
        "# before proceeding further.\n",
        "from __future__ import print_function\n",
        "import numpy as np\n",
        "import tensorflow as tf\n",
        "from six.moves import cPickle as pickle"
      ],
      "execution_count": 0,
      "outputs": []
    },
    {
      "metadata": {
        "id": "1HrCK6e17WzV",
        "colab_type": "text"
      },
      "cell_type": "markdown",
      "source": [
        "First reload the data we generated in `1_notmnist.ipynb`."
      ]
    },
    {
      "metadata": {
        "id": "y3-cj1bpmuxc",
        "colab_type": "code",
        "cellView": "both",
        "outputId": "dfa6c436-ee5d-419a-ba5f-4b709b0a5f33",
        "colab": {
          "base_uri": "https://localhost:8080/",
          "height": 68
        }
      },
      "cell_type": "code",
      "source": [
        "pickle_file = 'notMNIST.pickle'\n",
        "\n",
        "with open(pickle_file, 'rb') as f:\n",
        "  save = pickle.load(f)\n",
        "  train_dataset = save['train_dataset']\n",
        "  train_labels = save['train_labels']\n",
        "  valid_dataset = save['valid_dataset']\n",
        "  valid_labels = save['valid_labels']\n",
        "  test_dataset = save['test_dataset']\n",
        "  test_labels = save['test_labels']\n",
        "  del save  # hint to help gc free up memory\n",
        "  print('Training set', train_dataset.shape, train_labels.shape)\n",
        "  print('Validation set', valid_dataset.shape, valid_labels.shape)\n",
        "  print('Test set', test_dataset.shape, test_labels.shape)"
      ],
      "execution_count": 2,
      "outputs": [
        {
          "output_type": "stream",
          "text": [
            "Training set (200000, 28, 28) (200000,)\n",
            "Validation set (10000, 28, 28) (10000,)\n",
            "Test set (10000, 28, 28) (10000,)\n"
          ],
          "name": "stdout"
        }
      ]
    },
    {
      "metadata": {
        "id": "L7aHrm6nGDMB",
        "colab_type": "text"
      },
      "cell_type": "markdown",
      "source": [
        "Reformat into a shape that's more adapted to the models we're going to train:\n",
        "- data as a flat matrix,\n",
        "- labels as float 1-hot encodings."
      ]
    },
    {
      "metadata": {
        "id": "IRSyYiIIGIzS",
        "colab_type": "code",
        "cellView": "both",
        "outputId": "cd3e76b5-1a6d-4c3d-9908-5cebfd38dc59",
        "colab": {
          "base_uri": "https://localhost:8080/",
          "height": 68
        }
      },
      "cell_type": "code",
      "source": [
        "image_size = 28\n",
        "num_labels = 10\n",
        "\n",
        "def reformat(dataset, labels):\n",
        "  dataset = dataset.reshape((-1, image_size * image_size)).astype(np.float32)\n",
        "  # Map 1 to [0.0, 1.0, 0.0 ...], 2 to [0.0, 0.0, 1.0 ...]\n",
        "  labels = (np.arange(num_labels) == labels[:,None]).astype(np.float32)\n",
        "  return dataset, labels\n",
        "train_dataset, train_labels = reformat(train_dataset, train_labels)\n",
        "valid_dataset, valid_labels = reformat(valid_dataset, valid_labels)\n",
        "test_dataset, test_labels = reformat(test_dataset, test_labels)\n",
        "print('Training set', train_dataset.shape, train_labels.shape)\n",
        "print('Validation set', valid_dataset.shape, valid_labels.shape)\n",
        "print('Test set', test_dataset.shape, test_labels.shape)"
      ],
      "execution_count": 3,
      "outputs": [
        {
          "output_type": "stream",
          "text": [
            "Training set (200000, 784) (200000, 10)\n",
            "Validation set (10000, 784) (10000, 10)\n",
            "Test set (10000, 784) (10000, 10)\n"
          ],
          "name": "stdout"
        }
      ]
    },
    {
      "metadata": {
        "id": "RajPLaL_ZW6w",
        "colab_type": "code",
        "cellView": "both",
        "colab": {}
      },
      "cell_type": "code",
      "source": [
        "def accuracy(predictions, labels):\n",
        "  return (100.0 * np.sum(np.argmax(predictions, 1) == np.argmax(labels, 1))\n",
        "          / predictions.shape[0])"
      ],
      "execution_count": 0,
      "outputs": []
    },
    {
      "metadata": {
        "id": "sgLbUAQ1CW-1",
        "colab_type": "text"
      },
      "cell_type": "markdown",
      "source": [
        "---\n",
        "Problem 1\n",
        "---------\n",
        "\n",
        "Introduce and tune L2 regularization for both logistic and neural network models. Remember that L2 amounts to adding a penalty on the norm of the weights to the loss. In TensorFlow, you can compute the L2 loss for a tensor `t` using [nn.l2_loss(t)](https://www.tensorflow.org/api_docs/python/tf/nn/l2_loss). The right amount of regularization should improve your validation / test accuracy.\n",
        "\n",
        "---"
      ]
    },
    {
      "metadata": {
        "id": "SzUL2NkAv9vQ",
        "colab_type": "code",
        "colab": {}
      },
      "cell_type": "code",
      "source": [
        "batch_size = 128\n",
        "\n",
        "graph = tf.Graph()\n",
        "with graph.as_default():\n",
        "\n",
        "  # Input data. For the training data, we use a placeholder that will be fed\n",
        "  # at run time with a training minibatch.\n",
        "  tf_train_dataset = tf.placeholder(tf.float32,\n",
        "                                    shape=(batch_size, image_size * image_size))\n",
        "  tf_train_labels = tf.placeholder(tf.float32, shape=(batch_size, num_labels))\n",
        "  tf_valid_dataset = tf.constant(valid_dataset)\n",
        "  tf_test_dataset = tf.constant(test_dataset)\n",
        "\n",
        "  tf_n_layers = tf.constant(2)\n",
        "  tf_regularize_rate = tf.constant(0.001)\n",
        "  \n",
        "  # Variables.\n",
        "  weights = tf.Variable(\n",
        "    tf.truncated_normal([tf_n_layers, image_size * image_size, num_labels]))\n",
        "  biases = tf.Variable(tf.zeros([tf_n_layers, num_labels]))\n",
        "  \n",
        "  def compute(dataset, weights, biases):\n",
        "    logits = tf.nn.relu(tf.matmul(dataset, weights[0]) + biases[0])\n",
        "    logits = tf.matmul(dataset, weights[1]) + biases[1]\n",
        "    return logits\n",
        "\n",
        "  # Training computation.\n",
        "  logits = compute(tf_train_dataset, weights, biases)\n",
        "  loss = tf.reduce_mean(\n",
        "    tf.nn.softmax_cross_entropy_with_logits(labels=tf_train_labels, logits=logits)) \\\n",
        "    + tf_regularize_rate * tf.nn.l2_loss(weights)\n",
        "  \n",
        "  # Optimizer.\n",
        "  optimizer = tf.train.GradientDescentOptimizer(0.5).minimize(loss)\n",
        "  \n",
        "  # Predictions for the training, validation, and test data.\n",
        "  train_prediction = tf.nn.softmax(logits)\n",
        "  valid_prediction = tf.nn.softmax(compute(tf_valid_dataset, weights, biases))\n",
        "  test_prediction = tf.nn.softmax(compute(tf_test_dataset, weights, biases))"
      ],
      "execution_count": 0,
      "outputs": []
    },
    {
      "metadata": {
        "id": "a91BSexJwhM5",
        "colab_type": "code",
        "colab": {
          "base_uri": "https://localhost:8080/",
          "height": 408
        },
        "outputId": "4f153a01-f2f3-48e5-b1d4-cb4e153f323c"
      },
      "cell_type": "code",
      "source": [
        "num_steps = 3001\n",
        "\n",
        "with tf.Session(graph=graph) as session:\n",
        "  tf.global_variables_initializer().run()\n",
        "  print(\"Initialized\")\n",
        "\n",
        "  for step in range(num_steps):\n",
        "    # Pick an offset within the training data, which has been randomized.\n",
        "    # Note: we could use better randomization across epochs.\n",
        "    offset = (step * batch_size) % (train_labels.shape[0] - batch_size)\n",
        "\n",
        "    # Generate a minibatch.\n",
        "    batch_data = train_dataset[offset:(offset + batch_size), :]\n",
        "    batch_labels = train_labels[offset:(offset + batch_size), :]\n",
        "\n",
        "    # Prepare a dictionary telling the session where to feed the minibatch.\n",
        "    # The key of the dictionary is the placeholder node of the graph to be fed,\n",
        "    # and the value is the numpy array to feed to it.\n",
        "    feed_dict = {tf_train_dataset : batch_data, tf_train_labels : batch_labels}\n",
        "    _, l, predictions = session.run(\n",
        "      [optimizer, loss, train_prediction], feed_dict=feed_dict)\n",
        "\n",
        "    if (step % 500 == 0):\n",
        "      print(\"Minibatch loss at step %d: %f\" % (step, l))\n",
        "      print(\"Minibatch accuracy: %.1f%%\" % accuracy(predictions, batch_labels))\n",
        "      print(\"Validation accuracy: %.1f%%\" % accuracy(\n",
        "        valid_prediction.eval(), valid_labels))\n",
        "\n",
        "  print(\"Test accuracy: %.1f%%\" % accuracy(test_prediction.eval(), test_labels))"
      ],
      "execution_count": 34,
      "outputs": [
        {
          "output_type": "stream",
          "text": [
            "Initialized\n",
            "Minibatch loss at step 0: 27.805964\n",
            "Minibatch accuracy: 10.2%\n",
            "Validation accuracy: 11.2%\n",
            "Minibatch loss at step 500: 5.254585\n",
            "Minibatch accuracy: 64.8%\n",
            "Validation accuracy: 76.6%\n",
            "Minibatch loss at step 1000: 2.768672\n",
            "Minibatch accuracy: 75.8%\n",
            "Validation accuracy: 78.5%\n",
            "Minibatch loss at step 1500: 2.035361\n",
            "Minibatch accuracy: 78.9%\n",
            "Validation accuracy: 79.0%\n",
            "Minibatch loss at step 2000: 1.301173\n",
            "Minibatch accuracy: 80.5%\n",
            "Validation accuracy: 81.0%\n",
            "Minibatch loss at step 2500: 1.012961\n",
            "Minibatch accuracy: 85.9%\n",
            "Validation accuracy: 81.3%\n",
            "Minibatch loss at step 3000: 0.978090\n",
            "Minibatch accuracy: 81.2%\n",
            "Validation accuracy: 82.2%\n",
            "Test accuracy: 89.3%\n"
          ],
          "name": "stdout"
        }
      ]
    },
    {
      "metadata": {
        "id": "na8xX2yHZzNF",
        "colab_type": "text"
      },
      "cell_type": "markdown",
      "source": [
        "---\n",
        "Problem 2\n",
        "---------\n",
        "Let's demonstrate an extreme case of overfitting. Restrict your training data to just a few batches. What happens?\n",
        "\n",
        "---"
      ]
    },
    {
      "metadata": {
        "id": "LUdfz9A00w5C",
        "colab_type": "code",
        "colab": {}
      },
      "cell_type": "code",
      "source": [
        "batch_size = 10\n",
        "\n",
        "graph = tf.Graph()\n",
        "with graph.as_default():\n",
        "\n",
        "  # Input data. For the training data, we use a placeholder that will be fed\n",
        "  # at run time with a training minibatch.\n",
        "  tf_train_dataset = tf.placeholder(tf.float32,\n",
        "                                    shape=(batch_size, image_size * image_size))\n",
        "  tf_train_labels = tf.placeholder(tf.float32, shape=(batch_size, num_labels))\n",
        "  tf_valid_dataset = tf.constant(valid_dataset)\n",
        "  tf_test_dataset = tf.constant(test_dataset)\n",
        "\n",
        "  tf_n_layers = tf.constant(2)\n",
        "  tf_regularize_rate = tf.constant(0.001)\n",
        "  \n",
        "  # Variables.\n",
        "  weights = tf.Variable(\n",
        "    tf.truncated_normal([tf_n_layers, image_size * image_size, num_labels]))\n",
        "  biases = tf.Variable(tf.zeros([tf_n_layers, num_labels]))\n",
        "  \n",
        "  def compute(dataset, weights, biases):\n",
        "    logits = tf.nn.relu(tf.matmul(dataset, weights[0]) + biases[0])\n",
        "    logits = tf.matmul(dataset, weights[1]) + biases[1]\n",
        "    return logits\n",
        "\n",
        "  # Training computation.\n",
        "  logits = compute(tf_train_dataset, weights, biases)\n",
        "  loss = tf.reduce_mean(\n",
        "    tf.nn.softmax_cross_entropy_with_logits(labels=tf_train_labels, logits=logits)) \\\n",
        "    + tf_regularize_rate * tf.nn.l2_loss(weights)\n",
        "  \n",
        "  # Optimizer.\n",
        "  optimizer = tf.train.GradientDescentOptimizer(0.5).minimize(loss)\n",
        "  \n",
        "  # Predictions for the training, validation, and test data.\n",
        "  train_prediction = tf.nn.softmax(logits)\n",
        "  valid_prediction = tf.nn.softmax(compute(tf_valid_dataset, weights, biases))\n",
        "  test_prediction = tf.nn.softmax(compute(tf_test_dataset, weights, biases))"
      ],
      "execution_count": 0,
      "outputs": []
    },
    {
      "metadata": {
        "id": "CpY-mGxP0Xd-",
        "colab_type": "code",
        "colab": {
          "base_uri": "https://localhost:8080/",
          "height": 408
        },
        "outputId": "23cb91fd-26bf-4e60-810b-97ea6938ea4b"
      },
      "cell_type": "code",
      "source": [
        "num_steps = 3001\n",
        "\n",
        "with tf.Session(graph=graph) as session:\n",
        "  tf.global_variables_initializer().run()\n",
        "  print(\"Initialized\")\n",
        "\n",
        "  for step in range(num_steps):\n",
        "    # Pick an offset within the training data, which has been randomized.\n",
        "    # Note: we could use better randomization across epochs.\n",
        "    offset = (step * batch_size) % (train_labels.shape[0] - batch_size)\n",
        "\n",
        "    # Generate a minibatch.\n",
        "    batch_data = train_dataset[offset:(offset + batch_size), :]\n",
        "    batch_labels = train_labels[offset:(offset + batch_size), :]\n",
        "\n",
        "    # Prepare a dictionary telling the session where to feed the minibatch.\n",
        "    # The key of the dictionary is the placeholder node of the graph to be fed,\n",
        "    # and the value is the numpy array to feed to it.\n",
        "    feed_dict = {tf_train_dataset : batch_data, tf_train_labels : batch_labels}\n",
        "    _, l, predictions = session.run(\n",
        "      [optimizer, loss, train_prediction], feed_dict=feed_dict)\n",
        "\n",
        "    if (step % 500 == 0):\n",
        "      print(\"Minibatch loss at step %d: %f\" % (step, l))\n",
        "      print(\"Minibatch accuracy: %.1f%%\" % accuracy(predictions, batch_labels))\n",
        "      print(\"Validation accuracy: %.1f%%\" % accuracy(\n",
        "        valid_prediction.eval(), valid_labels))\n",
        "\n",
        "  print(\"Test accuracy: %.1f%%\" % accuracy(test_prediction.eval(), test_labels))"
      ],
      "execution_count": 37,
      "outputs": [
        {
          "output_type": "stream",
          "text": [
            "Initialized\n",
            "Minibatch loss at step 0: 40.255978\n",
            "Minibatch accuracy: 0.0%\n",
            "Validation accuracy: 8.2%\n",
            "Minibatch loss at step 500: 6.455092\n",
            "Minibatch accuracy: 70.0%\n",
            "Validation accuracy: 73.1%\n",
            "Minibatch loss at step 1000: 5.401825\n",
            "Minibatch accuracy: 80.0%\n",
            "Validation accuracy: 74.6%\n",
            "Minibatch loss at step 1500: 3.898789\n",
            "Minibatch accuracy: 60.0%\n",
            "Validation accuracy: 69.2%\n",
            "Minibatch loss at step 2000: 0.902420\n",
            "Minibatch accuracy: 100.0%\n",
            "Validation accuracy: 72.5%\n",
            "Minibatch loss at step 2500: 0.952710\n",
            "Minibatch accuracy: 80.0%\n",
            "Validation accuracy: 71.1%\n",
            "Minibatch loss at step 3000: 1.818704\n",
            "Minibatch accuracy: 70.0%\n",
            "Validation accuracy: 74.8%\n",
            "Test accuracy: 81.8%\n"
          ],
          "name": "stdout"
        }
      ]
    },
    {
      "metadata": {
        "id": "ww3SCBUdlkRc",
        "colab_type": "text"
      },
      "cell_type": "markdown",
      "source": [
        "---\n",
        "Problem 3\n",
        "---------\n",
        "Introduce Dropout on the hidden layer of the neural network. Remember: Dropout should only be introduced during training, not evaluation, otherwise your evaluation results would be stochastic as well. TensorFlow provides [nn.dropout()](https://www.tensorflow.org/api_docs/python/tf/nn/dropout) for that, but you have to make sure it's only inserted during training.\n",
        "\n",
        "What happens to our extreme overfitting case?\n",
        "\n",
        "---"
      ]
    },
    {
      "metadata": {
        "id": "CcferXy81Htc",
        "colab_type": "code",
        "colab": {}
      },
      "cell_type": "code",
      "source": [
        "batch_size = 10\n",
        "\n",
        "graph = tf.Graph()\n",
        "with graph.as_default():\n",
        "\n",
        "  # Input data. For the training data, we use a placeholder that will be fed\n",
        "  # at run time with a training minibatch.\n",
        "  tf_train_dataset = tf.placeholder(tf.float32,\n",
        "                                    shape=(batch_size, image_size * image_size))\n",
        "  tf_train_labels = tf.placeholder(tf.float32, shape=(batch_size, num_labels))\n",
        "  tf_valid_dataset = tf.constant(valid_dataset)\n",
        "  tf_test_dataset = tf.constant(test_dataset)\n",
        "\n",
        "  tf_n_layers = tf.constant(2)\n",
        "  tf_dropout_rate = tf.constant(0.001)\n",
        "  \n",
        "  # Variables.\n",
        "  weights = tf.Variable(\n",
        "    tf.truncated_normal([tf_n_layers, image_size * image_size, num_labels]))\n",
        "  biases = tf.Variable(tf.zeros([tf_n_layers, num_labels]))\n",
        "  \n",
        "  def compute(dataset, weights, biases, dropout=False):\n",
        "    weight0 = weights[0]\n",
        "    weight1 = weights[1]\n",
        "    biases0 = biases[0]\n",
        "    biases1 = biases[1]\n",
        "    if dropout == True:\n",
        "      weight0 = tf.nn.dropout(weights[0], 0.5)\n",
        "      weight1 = tf.nn.dropout(weights[1], 0.5)\n",
        "      biases0 = tf.nn.dropout(biases[0], 0.5)\n",
        "      biases1 = tf.nn.dropout(biases[1], 0.5)\n",
        "    logits = tf.nn.relu(tf.matmul(dataset, weight0) + biases0)\n",
        "    logits = tf.matmul(dataset, weight1) + biases1\n",
        "    return logits\n",
        "\n",
        "  # Training computation.\n",
        "  logits = compute(tf_train_dataset, weights, biases, dropout=True)\n",
        "  loss = tf.reduce_mean(\n",
        "    tf.nn.softmax_cross_entropy_with_logits(labels=tf_train_labels, logits=logits))\n",
        "  \n",
        "  # Optimizer.\n",
        "  optimizer = tf.train.GradientDescentOptimizer(0.5).minimize(loss)\n",
        "  \n",
        "  # Predictions for the training, validation, and test data.\n",
        "  train_prediction = tf.nn.softmax(logits)\n",
        "  valid_prediction = tf.nn.softmax(compute(tf_valid_dataset, weights, biases))\n",
        "  test_prediction = tf.nn.softmax(compute(tf_test_dataset, weights, biases))"
      ],
      "execution_count": 0,
      "outputs": []
    },
    {
      "metadata": {
        "id": "Jkl866cO3U0O",
        "colab_type": "code",
        "colab": {
          "base_uri": "https://localhost:8080/",
          "height": 408
        },
        "outputId": "1becd9ce-d8be-439d-eb92-7bed5f4c3972"
      },
      "cell_type": "code",
      "source": [
        "num_steps = 3001\n",
        "\n",
        "with tf.Session(graph=graph) as session:\n",
        "  tf.global_variables_initializer().run()\n",
        "  print(\"Initialized\")\n",
        "\n",
        "  for step in range(num_steps):\n",
        "    # Pick an offset within the training data, which has been randomized.\n",
        "    # Note: we could use better randomization across epochs.\n",
        "    offset = (step * batch_size) % (train_labels.shape[0] - batch_size)\n",
        "\n",
        "    # Generate a minibatch.\n",
        "    batch_data = train_dataset[offset:(offset + batch_size), :]\n",
        "    batch_labels = train_labels[offset:(offset + batch_size), :]\n",
        "\n",
        "    # Prepare a dictionary telling the session where to feed the minibatch.\n",
        "    # The key of the dictionary is the placeholder node of the graph to be fed,\n",
        "    # and the value is the numpy array to feed to it.\n",
        "    feed_dict = {tf_train_dataset : batch_data, tf_train_labels : batch_labels}\n",
        "    _, l, predictions = session.run(\n",
        "      [optimizer, loss, train_prediction], feed_dict=feed_dict)\n",
        "\n",
        "    if (step % 500 == 0):\n",
        "      print(\"Minibatch loss at step %d: %f\" % (step, l))\n",
        "      print(\"Minibatch accuracy: %.1f%%\" % accuracy(predictions, batch_labels))\n",
        "      print(\"Validation accuracy: %.1f%%\" % accuracy(\n",
        "        valid_prediction.eval(), valid_labels))\n",
        "\n",
        "  print(\"Test accuracy: %.1f%%\" % accuracy(test_prediction.eval(), test_labels))"
      ],
      "execution_count": 46,
      "outputs": [
        {
          "output_type": "stream",
          "text": [
            "Initialized\n",
            "Minibatch loss at step 0: 35.226173\n",
            "Minibatch accuracy: 0.0%\n",
            "Validation accuracy: 12.6%\n",
            "Minibatch loss at step 500: 9.841374\n",
            "Minibatch accuracy: 50.0%\n",
            "Validation accuracy: 77.3%\n",
            "Minibatch loss at step 1000: 10.906124\n",
            "Minibatch accuracy: 50.0%\n",
            "Validation accuracy: 78.9%\n",
            "Minibatch loss at step 1500: 6.152736\n",
            "Minibatch accuracy: 70.0%\n",
            "Validation accuracy: 78.6%\n",
            "Minibatch loss at step 2000: 2.288960\n",
            "Minibatch accuracy: 80.0%\n",
            "Validation accuracy: 77.1%\n",
            "Minibatch loss at step 2500: 0.373692\n",
            "Minibatch accuracy: 90.0%\n",
            "Validation accuracy: 78.5%\n",
            "Minibatch loss at step 3000: 3.006389\n",
            "Minibatch accuracy: 80.0%\n",
            "Validation accuracy: 77.2%\n",
            "Test accuracy: 84.5%\n"
          ],
          "name": "stdout"
        }
      ]
    },
    {
      "metadata": {
        "id": "-b1hTz3VWZjw",
        "colab_type": "text"
      },
      "cell_type": "markdown",
      "source": [
        "---\n",
        "Problem 4\n",
        "---------\n",
        "\n",
        "Try to get the best performance you can using a multi-layer model! The best reported test accuracy using a deep network is [97.1%](http://yaroslavvb.blogspot.com/2011/09/notmnist-dataset.html?showComment=1391023266211#c8758720086795711595).\n",
        "\n",
        "One avenue you can explore is to add multiple layers.\n",
        "\n",
        "Another one is to use learning rate decay:\n",
        "\n",
        "    global_step = tf.Variable(0)  # count the number of steps taken.\n",
        "    learning_rate = tf.train.exponential_decay(0.5, global_step, ...)\n",
        "    optimizer = tf.train.GradientDescentOptimizer(learning_rate).minimize(loss, global_step=global_step)\n",
        " \n",
        " ---\n"
      ]
    },
    {
      "metadata": {
        "id": "Hq1YYc1w4jrO",
        "colab_type": "code",
        "colab": {}
      },
      "cell_type": "code",
      "source": [
        "batch_size = 128\n",
        "\n",
        "graph = tf.Graph()\n",
        "with graph.as_default():\n",
        "\n",
        "  # Input data. For the training data, we use a placeholder that will be fed\n",
        "  # at run time with a training minibatch.\n",
        "  tf_train_dataset = tf.placeholder(tf.float32,\n",
        "                                    shape=(batch_size, image_size * image_size))\n",
        "  tf_train_labels = tf.placeholder(tf.float32, shape=(batch_size, num_labels))\n",
        "  tf_valid_dataset = tf.constant(valid_dataset)\n",
        "  tf_test_dataset = tf.constant(test_dataset)\n",
        "\n",
        "  tf_n_layers = tf.constant(2)\n",
        "  tf_regularize_rate = tf.constant(0.001)\n",
        "  \n",
        "  global_step = tf.Variable(0)  # count the number of steps taken.\n",
        "  learning_rate = tf.train.exponential_decay(\n",
        "      0.5, # learning_rate\n",
        "      global_step, # global_step\n",
        "      1000, # decay_steps\n",
        "      0.9, # decay_rate\n",
        "      staircase=True\n",
        "  )\n",
        "    \n",
        "  # Variables.\n",
        "  weights = tf.Variable(\n",
        "    tf.truncated_normal([tf_n_layers, image_size * image_size, num_labels]))\n",
        "  biases = tf.Variable(tf.zeros([tf_n_layers, num_labels]))\n",
        "  \n",
        "  def compute(dataset, weights, biases):\n",
        "    logits = tf.nn.relu(tf.matmul(dataset, weights[0]) + biases[0])\n",
        "    logits = tf.matmul(dataset, weights[1]) + biases[1]\n",
        "    return logits\n",
        "\n",
        "  # Training computation.\n",
        "  logits = compute(tf_train_dataset, weights, biases)\n",
        "  loss = tf.reduce_mean(\n",
        "    tf.nn.softmax_cross_entropy_with_logits(labels=tf_train_labels, logits=logits)) \\\n",
        "    + tf_regularize_rate * tf.nn.l2_loss(weights)\n",
        "  \n",
        "  # Optimizer.\n",
        "  optimizer = tf.train.GradientDescentOptimizer(learning_rate).minimize(loss, global_step=global_step)\n",
        "  \n",
        "  # Predictions for the training, validation, and test data.\n",
        "  train_prediction = tf.nn.softmax(logits)\n",
        "  valid_prediction = tf.nn.softmax(compute(tf_valid_dataset, weights, biases))\n",
        "  test_prediction = tf.nn.softmax(compute(tf_test_dataset, weights, biases))"
      ],
      "execution_count": 0,
      "outputs": []
    },
    {
      "metadata": {
        "id": "oZGAnC4F4r_c",
        "colab_type": "code",
        "colab": {
          "base_uri": "https://localhost:8080/",
          "height": 408
        },
        "outputId": "6606b581-ff04-4aba-c3f3-93ea2cd9e38b"
      },
      "cell_type": "code",
      "source": [
        "num_steps = 3001\n",
        "\n",
        "with tf.Session(graph=graph) as session:\n",
        "  tf.global_variables_initializer().run()\n",
        "  print(\"Initialized\")\n",
        "\n",
        "  for step in range(num_steps):\n",
        "    # Pick an offset within the training data, which has been randomized.\n",
        "    # Note: we could use better randomization across epochs.\n",
        "    offset = (step * batch_size) % (train_labels.shape[0] - batch_size)\n",
        "\n",
        "    # Generate a minibatch.\n",
        "    batch_data = train_dataset[offset:(offset + batch_size), :]\n",
        "    batch_labels = train_labels[offset:(offset + batch_size), :]\n",
        "\n",
        "    # Prepare a dictionary telling the session where to feed the minibatch.\n",
        "    # The key of the dictionary is the placeholder node of the graph to be fed,\n",
        "    # and the value is the numpy array to feed to it.\n",
        "    feed_dict = {tf_train_dataset : batch_data, tf_train_labels : batch_labels}\n",
        "    _, l, predictions = session.run(\n",
        "      [optimizer, loss, train_prediction], feed_dict=feed_dict)\n",
        "\n",
        "    if (step % 500 == 0):\n",
        "      print(\"Minibatch loss at step %d: %f\" % (step, l))\n",
        "      print(\"Minibatch accuracy: %.1f%%\" % accuracy(predictions, batch_labels))\n",
        "      print(\"Validation accuracy: %.1f%%\" % accuracy(\n",
        "        valid_prediction.eval(), valid_labels))\n",
        "\n",
        "  print(\"Test accuracy: %.1f%%\" % accuracy(test_prediction.eval(), test_labels))"
      ],
      "execution_count": 51,
      "outputs": [
        {
          "output_type": "stream",
          "text": [
            "Initialized\n",
            "Minibatch loss at step 0: 26.170269\n",
            "Minibatch accuracy: 4.7%\n",
            "Validation accuracy: 11.3%\n",
            "Minibatch loss at step 500: 5.011247\n",
            "Minibatch accuracy: 68.8%\n",
            "Validation accuracy: 75.9%\n",
            "Minibatch loss at step 1000: 2.901182\n",
            "Minibatch accuracy: 73.4%\n",
            "Validation accuracy: 78.2%\n",
            "Minibatch loss at step 1500: 2.181290\n",
            "Minibatch accuracy: 75.8%\n",
            "Validation accuracy: 79.4%\n",
            "Minibatch loss at step 2000: 1.349906\n",
            "Minibatch accuracy: 84.4%\n",
            "Validation accuracy: 81.2%\n",
            "Minibatch loss at step 2500: 1.125248\n",
            "Minibatch accuracy: 80.5%\n",
            "Validation accuracy: 81.3%\n",
            "Minibatch loss at step 3000: 1.052812\n",
            "Minibatch accuracy: 80.5%\n",
            "Validation accuracy: 82.1%\n",
            "Test accuracy: 89.1%\n"
          ],
          "name": "stdout"
        }
      ]
    }
  ]
}